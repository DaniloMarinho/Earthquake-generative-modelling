{
 "cells": [
  {
   "cell_type": "markdown",
   "metadata": {},
   "source": [
    "## Data Challenge : Generative Model of Earthquakes\n",
    "\n",
    "### Overview :\n",
    "\n",
    "Earthquakes are one of the most devastating natural phenomena, with the potential to cause significant loss of life, economic damage, and structural collapse. Understanding and modeling earthquake occurrences, magnitudes, and distributions are critical for risk assessment, urban planning, and developing early warning systems to mitigate their impacts. This data challenge, based on data referring to seismic events occurred in Japan, invites participants to explore and develop generative models that can simulate earthquake events with realistic properties.\n",
    "Participants are provided with a dataset containing historical records of earthquake events in Japan, a country that has high susceptibility to seismic activities as part of the Pacific \"Ring of Fire\". \n",
    "\n",
    "### Objectives :\n",
    "\n",
    "We propose a challenge with two independent parts. The first part is a regression task implemented on the Ramp workflow, and the second part is a generative modelling challenge further explored on this notebook, although not included on Ramp due to absence of a generative modelling workflow.\n",
    "\n",
    "In the first part we focus on bulding a regression model capable of forecasting the time for of the next earthquake event given the data from a sequence of the 5 latest registered earthquakes. Different approaches can be employed (time series, missing value imputation, ...) and all are encouraged. Building an accurate prediction model for time of occurence of seismic phenomenon, along with other analysis on the expected magnitude, can be extremely helpful for damage control policies.\n",
    "In the second part, we are interested in building a generative model capable of simulating sequences of earthquake events. Each event in the sequence should be characterized by its occurrence time and magnitude, reflecting the complex, self-exciting nature of seismic activity. Participants are encouraged to explore various statistical and machine learning approaches, including but not limited to Hawkes processes, Gaussian mixture models, and deep learning-based generative models. The goal in this case is to learn fundamental properties of the stochastic process underlying earthquake occurrences through a model which would allow for realistic simulations of various critical scenarios. For this reason, a particular focus will be placed on accurate estimation of extreme magnitudes (i.e.: dangerous events).\n",
    "\n",
    "To summarise, the goals of the challenge are:\n",
    "\n",
    "Part 1:\n",
    "\n",
    "    - To develop a regression model that, given times, magnitudes and locations of the 5 last earthquakes in Japan, will predict the time of the next registered earthquake.\n",
    "\n",
    "Part 2:\n",
    "\n",
    "    - To develop a generative model that accurately captures the temporal dynamics and magnitude distribution of earthquake occurrences.\n",
    "    - To investigate the model's ability to replicate observed patterns in real-world earthquake data, including clustering of events (aftershocks) and correlations between event magnitudes and frequencies."
   ]
  },
  {
   "cell_type": "code",
   "execution_count": 1,
   "metadata": {},
   "outputs": [
    {
     "name": "stderr",
     "output_type": "stream",
     "text": [
      "/home/lucas/.local/lib/python3.8/site-packages/HawkesPyLib/core/simulation.py:6: NumbaDeprecationWarning: \u001b[1mThe keyword argument 'nopython=False' was supplied. From Numba 0.59.0 the default is being changed to True and use of 'nopython=False' will raise a warning as the argument will have no effect. See https://numba.readthedocs.io/en/stable/reference/deprecation.html#deprecation-of-object-mode-fall-back-behaviour-when-using-jit for details.\u001b[0m\n",
      "  @jit(float64[:](float64, float64, int32), nopython=False, cache=False, nogil=True)\n",
      "/home/lucas/.local/lib/python3.8/site-packages/HawkesPyLib/core/simulation.py:44: NumbaDeprecationWarning: \u001b[1mThe keyword argument 'nopython=False' was supplied. From Numba 0.59.0 the default is being changed to True and use of 'nopython=False' will raise a warning as the argument will have no effect. See https://numba.readthedocs.io/en/stable/reference/deprecation.html#deprecation-of-object-mode-fall-back-behaviour-when-using-jit for details.\u001b[0m\n",
      "  @jit(float64[:](float64, float64, float64, float64, float64, float64, int32, int32),\n"
     ]
    }
   ],
   "source": [
    "from HawkesPyLib.simulation import SumExpHawkesProcessSimulation\n",
    "from HawkesPyLib.inference import SumExpHawkesProcessInference\n",
    "import numpy as np\n",
    "import pandas as pd\n",
    "from sklearn.preprocessing import LabelEncoder\n",
    "from sklearn.mixture import GaussianMixture\n",
    "\n",
    "from shapely.geometry import Point\n",
    "import geopandas as gpd\n",
    "from geopandas import GeoDataFrame\n",
    "\n",
    "from statsmodels.graphics.tsaplots import plot_acf\n",
    "import matplotlib.pyplot as plt"
   ]
  },
  {
   "cell_type": "markdown",
   "metadata": {},
   "source": [
    "# Data Preprocessing"
   ]
  },
  {
   "cell_type": "markdown",
   "metadata": {},
   "source": [
    "We start off by explaining how to obtain the data that we will use for the first part of the challenge, the regression.\n",
    "\n",
    "First of all, we import the data."
   ]
  },
  {
   "cell_type": "code",
   "execution_count": 2,
   "metadata": {},
   "outputs": [
    {
     "data": {
      "text/html": [
       "<div>\n",
       "<style scoped>\n",
       "    .dataframe tbody tr th:only-of-type {\n",
       "        vertical-align: middle;\n",
       "    }\n",
       "\n",
       "    .dataframe tbody tr th {\n",
       "        vertical-align: top;\n",
       "    }\n",
       "\n",
       "    .dataframe thead th {\n",
       "        text-align: right;\n",
       "    }\n",
       "</style>\n",
       "<table border=\"1\" class=\"dataframe\">\n",
       "  <thead>\n",
       "    <tr style=\"text-align: right;\">\n",
       "      <th></th>\n",
       "      <th>Magnitude</th>\n",
       "      <th>Place</th>\n",
       "      <th>Time</th>\n",
       "      <th>Longitude</th>\n",
       "      <th>Latitude</th>\n",
       "      <th>Depth</th>\n",
       "    </tr>\n",
       "  </thead>\n",
       "  <tbody>\n",
       "    <tr>\n",
       "      <th>0</th>\n",
       "      <td>4.8</td>\n",
       "      <td>108 km ESE of Tatsugō, Japan</td>\n",
       "      <td>1704033458234</td>\n",
       "      <td>130.6658</td>\n",
       "      <td>28.1762</td>\n",
       "      <td>24.420</td>\n",
       "    </tr>\n",
       "    <tr>\n",
       "      <th>1</th>\n",
       "      <td>4.3</td>\n",
       "      <td>116 km SE of Kuril’sk, Russia</td>\n",
       "      <td>1703996366515</td>\n",
       "      <td>148.9932</td>\n",
       "      <td>44.5454</td>\n",
       "      <td>35.000</td>\n",
       "    </tr>\n",
       "    <tr>\n",
       "      <th>2</th>\n",
       "      <td>4.2</td>\n",
       "      <td>Maug Islands region, Northern Mariana Islands</td>\n",
       "      <td>1703991740201</td>\n",
       "      <td>145.6748</td>\n",
       "      <td>20.0351</td>\n",
       "      <td>123.949</td>\n",
       "    </tr>\n",
       "    <tr>\n",
       "      <th>3</th>\n",
       "      <td>4.2</td>\n",
       "      <td>64 km NE of Otrada, Russia</td>\n",
       "      <td>1703981451692</td>\n",
       "      <td>146.4847</td>\n",
       "      <td>44.4452</td>\n",
       "      <td>155.813</td>\n",
       "    </tr>\n",
       "    <tr>\n",
       "      <th>4</th>\n",
       "      <td>4.4</td>\n",
       "      <td>108 km SE of Kuril’sk, Russia</td>\n",
       "      <td>1703980548472</td>\n",
       "      <td>148.9343</td>\n",
       "      <td>44.6077</td>\n",
       "      <td>35.000</td>\n",
       "    </tr>\n",
       "  </tbody>\n",
       "</table>\n",
       "</div>"
      ],
      "text/plain": [
       "   Magnitude                                          Place           Time  \\\n",
       "0        4.8                   108 km ESE of Tatsugō, Japan  1704033458234   \n",
       "1        4.3                  116 km SE of Kuril’sk, Russia  1703996366515   \n",
       "2        4.2  Maug Islands region, Northern Mariana Islands  1703991740201   \n",
       "3        4.2                     64 km NE of Otrada, Russia  1703981451692   \n",
       "4        4.4                  108 km SE of Kuril’sk, Russia  1703980548472   \n",
       "\n",
       "   Longitude  Latitude    Depth  \n",
       "0   130.6658   28.1762   24.420  \n",
       "1   148.9932   44.5454   35.000  \n",
       "2   145.6748   20.0351  123.949  \n",
       "3   146.4847   44.4452  155.813  \n",
       "4   148.9343   44.6077   35.000  "
      ]
     },
     "execution_count": 2,
     "metadata": {},
     "output_type": "execute_result"
    }
   ],
   "source": [
    "data = pd.read_csv(\"data/data_generative.csv\", index_col=0)\n",
    "data.head()"
   ]
  },
  {
   "cell_type": "markdown",
   "metadata": {},
   "source": [
    "The names of the features are rather intuitive, and we will explain into details the data referring to each part of the challenge later on. We may be surprised by the values of the time column, but they are simply due to the representation in Unix time stamp (seconds passed from the $1^{st}$ of January $1970$ to the earthquake)."
   ]
  },
  {
   "cell_type": "markdown",
   "metadata": {},
   "source": [
    "We proceed by reshaping the data to obtain the sequences of seismic events needed for Part 1."
   ]
  },
  {
   "cell_type": "code",
   "execution_count": 3,
   "metadata": {},
   "outputs": [
    {
     "data": {
      "text/html": [
       "<div>\n",
       "<style scoped>\n",
       "    .dataframe tbody tr th:only-of-type {\n",
       "        vertical-align: middle;\n",
       "    }\n",
       "\n",
       "    .dataframe tbody tr th {\n",
       "        vertical-align: top;\n",
       "    }\n",
       "\n",
       "    .dataframe thead th {\n",
       "        text-align: right;\n",
       "    }\n",
       "</style>\n",
       "<table border=\"1\" class=\"dataframe\">\n",
       "  <thead>\n",
       "    <tr style=\"text-align: right;\">\n",
       "      <th></th>\n",
       "      <th>Magnitude</th>\n",
       "      <th>Place</th>\n",
       "      <th>Time</th>\n",
       "      <th>Longitude</th>\n",
       "      <th>Latitude</th>\n",
       "      <th>Depth</th>\n",
       "    </tr>\n",
       "  </thead>\n",
       "  <tbody>\n",
       "    <tr>\n",
       "      <th>8641</th>\n",
       "      <td>4.3</td>\n",
       "      <td>54 km ESE of Ishinomaki, Japan</td>\n",
       "      <td>1514815826170</td>\n",
       "      <td>141.8955</td>\n",
       "      <td>38.2761</td>\n",
       "      <td>51.04</td>\n",
       "    </tr>\n",
       "    <tr>\n",
       "      <th>8640</th>\n",
       "      <td>4.2</td>\n",
       "      <td>87 km ESE of Yujing, Taiwan</td>\n",
       "      <td>1514834523580</td>\n",
       "      <td>121.2799</td>\n",
       "      <td>22.9136</td>\n",
       "      <td>10.00</td>\n",
       "    </tr>\n",
       "    <tr>\n",
       "      <th>8639</th>\n",
       "      <td>4.4</td>\n",
       "      <td>Volcano Islands, Japan region</td>\n",
       "      <td>1514861626720</td>\n",
       "      <td>142.9983</td>\n",
       "      <td>23.1461</td>\n",
       "      <td>91.11</td>\n",
       "    </tr>\n",
       "    <tr>\n",
       "      <th>8638</th>\n",
       "      <td>4.5</td>\n",
       "      <td>7 km NW of Ichihara, Japan</td>\n",
       "      <td>1514890119800</td>\n",
       "      <td>140.0338</td>\n",
       "      <td>35.5756</td>\n",
       "      <td>42.22</td>\n",
       "    </tr>\n",
       "    <tr>\n",
       "      <th>8637</th>\n",
       "      <td>4.7</td>\n",
       "      <td>101 km ENE of Shikotan, Russia</td>\n",
       "      <td>1514897395840</td>\n",
       "      <td>147.9473</td>\n",
       "      <td>44.0175</td>\n",
       "      <td>69.86</td>\n",
       "    </tr>\n",
       "  </tbody>\n",
       "</table>\n",
       "</div>"
      ],
      "text/plain": [
       "      Magnitude                           Place           Time  Longitude  \\\n",
       "8641        4.3  54 km ESE of Ishinomaki, Japan  1514815826170   141.8955   \n",
       "8640        4.2     87 km ESE of Yujing, Taiwan  1514834523580   121.2799   \n",
       "8639        4.4   Volcano Islands, Japan region  1514861626720   142.9983   \n",
       "8638        4.5      7 km NW of Ichihara, Japan  1514890119800   140.0338   \n",
       "8637        4.7  101 km ENE of Shikotan, Russia  1514897395840   147.9473   \n",
       "\n",
       "      Latitude  Depth  \n",
       "8641   38.2761  51.04  \n",
       "8640   22.9136  10.00  \n",
       "8639   23.1461  91.11  \n",
       "8638   35.5756  42.22  \n",
       "8637   44.0175  69.86  "
      ]
     },
     "execution_count": 3,
     "metadata": {},
     "output_type": "execute_result"
    }
   ],
   "source": [
    "data = data.sort_values([\"Time\"])\n",
    "data.head()"
   ]
  },
  {
   "cell_type": "code",
   "execution_count": 4,
   "metadata": {},
   "outputs": [],
   "source": [
    "groups = [data.iloc[i:i+6] for i in range(0, len(data), 6)]\n",
    "dfs = []\n",
    "\n",
    "for group in groups:\n",
    "    df = pd.DataFrame()\n",
    "    for idx, row in group.reset_index().iterrows():\n",
    "        df.loc[0,f\"Time{idx}\"] = row[\"Time\"]\n",
    "        if idx < 5:\n",
    "            df.loc[0,f\"Longitude{idx}\"] = row[\"Longitude\"]\n",
    "            df.loc[0,f\"Latitude{idx}\"] = row[\"Latitude\"]\n",
    "            df.loc[0,f\"Magnitude{idx}\"] = row[\"Magnitude\"]\n",
    "    dfs.append(df)"
   ]
  },
  {
   "cell_type": "code",
   "execution_count": 5,
   "metadata": {},
   "outputs": [
    {
     "data": {
      "text/html": [
       "<div>\n",
       "<style scoped>\n",
       "    .dataframe tbody tr th:only-of-type {\n",
       "        vertical-align: middle;\n",
       "    }\n",
       "\n",
       "    .dataframe tbody tr th {\n",
       "        vertical-align: top;\n",
       "    }\n",
       "\n",
       "    .dataframe thead th {\n",
       "        text-align: right;\n",
       "    }\n",
       "</style>\n",
       "<table border=\"1\" class=\"dataframe\">\n",
       "  <thead>\n",
       "    <tr style=\"text-align: right;\">\n",
       "      <th></th>\n",
       "      <th>Time0</th>\n",
       "      <th>Longitude0</th>\n",
       "      <th>Latitude0</th>\n",
       "      <th>Magnitude0</th>\n",
       "      <th>Time1</th>\n",
       "      <th>Longitude1</th>\n",
       "      <th>Latitude1</th>\n",
       "      <th>Magnitude1</th>\n",
       "      <th>Time2</th>\n",
       "      <th>Longitude2</th>\n",
       "      <th>...</th>\n",
       "      <th>Magnitude2</th>\n",
       "      <th>Time3</th>\n",
       "      <th>Longitude3</th>\n",
       "      <th>Latitude3</th>\n",
       "      <th>Magnitude3</th>\n",
       "      <th>Time4</th>\n",
       "      <th>Longitude4</th>\n",
       "      <th>Latitude4</th>\n",
       "      <th>Magnitude4</th>\n",
       "      <th>Time5</th>\n",
       "    </tr>\n",
       "  </thead>\n",
       "  <tbody>\n",
       "    <tr>\n",
       "      <th>0</th>\n",
       "      <td>1.514816e+12</td>\n",
       "      <td>141.8955</td>\n",
       "      <td>38.2761</td>\n",
       "      <td>4.3</td>\n",
       "      <td>1.514835e+12</td>\n",
       "      <td>121.2799</td>\n",
       "      <td>22.9136</td>\n",
       "      <td>4.2</td>\n",
       "      <td>1.514862e+12</td>\n",
       "      <td>142.9983</td>\n",
       "      <td>...</td>\n",
       "      <td>4.4</td>\n",
       "      <td>1.514890e+12</td>\n",
       "      <td>140.0338</td>\n",
       "      <td>35.5756</td>\n",
       "      <td>4.5</td>\n",
       "      <td>1.514897e+12</td>\n",
       "      <td>147.9473</td>\n",
       "      <td>44.0175</td>\n",
       "      <td>4.7</td>\n",
       "      <td>1.514921e+12</td>\n",
       "    </tr>\n",
       "    <tr>\n",
       "      <th>1</th>\n",
       "      <td>1.514928e+12</td>\n",
       "      <td>142.0927</td>\n",
       "      <td>37.3027</td>\n",
       "      <td>4.3</td>\n",
       "      <td>1.514935e+12</td>\n",
       "      <td>140.5556</td>\n",
       "      <td>29.5079</td>\n",
       "      <td>4.5</td>\n",
       "      <td>1.514982e+12</td>\n",
       "      <td>140.4409</td>\n",
       "      <td>...</td>\n",
       "      <td>4.7</td>\n",
       "      <td>1.514982e+12</td>\n",
       "      <td>140.3036</td>\n",
       "      <td>29.5489</td>\n",
       "      <td>4.6</td>\n",
       "      <td>1.514992e+12</td>\n",
       "      <td>140.3128</td>\n",
       "      <td>29.5928</td>\n",
       "      <td>4.3</td>\n",
       "      <td>1.515008e+12</td>\n",
       "    </tr>\n",
       "    <tr>\n",
       "      <th>2</th>\n",
       "      <td>1.515015e+12</td>\n",
       "      <td>140.5205</td>\n",
       "      <td>29.6374</td>\n",
       "      <td>5.5</td>\n",
       "      <td>1.515015e+12</td>\n",
       "      <td>140.5166</td>\n",
       "      <td>29.6113</td>\n",
       "      <td>5.1</td>\n",
       "      <td>1.515030e+12</td>\n",
       "      <td>143.0351</td>\n",
       "      <td>...</td>\n",
       "      <td>4.3</td>\n",
       "      <td>1.515047e+12</td>\n",
       "      <td>140.1703</td>\n",
       "      <td>35.5957</td>\n",
       "      <td>4.4</td>\n",
       "      <td>1.515068e+12</td>\n",
       "      <td>124.6215</td>\n",
       "      <td>45.4416</td>\n",
       "      <td>4.3</td>\n",
       "      <td>1.515072e+12</td>\n",
       "    </tr>\n",
       "    <tr>\n",
       "      <th>3</th>\n",
       "      <td>1.515076e+12</td>\n",
       "      <td>140.5203</td>\n",
       "      <td>29.5673</td>\n",
       "      <td>4.6</td>\n",
       "      <td>1.515076e+12</td>\n",
       "      <td>140.2602</td>\n",
       "      <td>29.6604</td>\n",
       "      <td>4.6</td>\n",
       "      <td>1.515118e+12</td>\n",
       "      <td>140.7786</td>\n",
       "      <td>...</td>\n",
       "      <td>4.4</td>\n",
       "      <td>1.515124e+12</td>\n",
       "      <td>140.5766</td>\n",
       "      <td>29.6055</td>\n",
       "      <td>4.6</td>\n",
       "      <td>1.515150e+12</td>\n",
       "      <td>141.3471</td>\n",
       "      <td>35.2909</td>\n",
       "      <td>4.3</td>\n",
       "      <td>1.515168e+12</td>\n",
       "    </tr>\n",
       "    <tr>\n",
       "      <th>4</th>\n",
       "      <td>1.515181e+12</td>\n",
       "      <td>139.2678</td>\n",
       "      <td>34.8460</td>\n",
       "      <td>4.5</td>\n",
       "      <td>1.515185e+12</td>\n",
       "      <td>139.2303</td>\n",
       "      <td>34.8211</td>\n",
       "      <td>4.7</td>\n",
       "      <td>1.515235e+12</td>\n",
       "      <td>142.3725</td>\n",
       "      <td>...</td>\n",
       "      <td>4.7</td>\n",
       "      <td>1.515246e+12</td>\n",
       "      <td>142.5355</td>\n",
       "      <td>40.7851</td>\n",
       "      <td>4.6</td>\n",
       "      <td>1.515317e+12</td>\n",
       "      <td>141.2623</td>\n",
       "      <td>36.3315</td>\n",
       "      <td>4.2</td>\n",
       "      <td>1.515369e+12</td>\n",
       "    </tr>\n",
       "  </tbody>\n",
       "</table>\n",
       "<p>5 rows × 21 columns</p>\n",
       "</div>"
      ],
      "text/plain": [
       "          Time0  Longitude0  Latitude0  Magnitude0         Time1  Longitude1  \\\n",
       "0  1.514816e+12    141.8955    38.2761         4.3  1.514835e+12    121.2799   \n",
       "1  1.514928e+12    142.0927    37.3027         4.3  1.514935e+12    140.5556   \n",
       "2  1.515015e+12    140.5205    29.6374         5.5  1.515015e+12    140.5166   \n",
       "3  1.515076e+12    140.5203    29.5673         4.6  1.515076e+12    140.2602   \n",
       "4  1.515181e+12    139.2678    34.8460         4.5  1.515185e+12    139.2303   \n",
       "\n",
       "   Latitude1  Magnitude1         Time2  Longitude2  ...  Magnitude2  \\\n",
       "0    22.9136         4.2  1.514862e+12    142.9983  ...         4.4   \n",
       "1    29.5079         4.5  1.514982e+12    140.4409  ...         4.7   \n",
       "2    29.6113         5.1  1.515030e+12    143.0351  ...         4.3   \n",
       "3    29.6604         4.6  1.515118e+12    140.7786  ...         4.4   \n",
       "4    34.8211         4.7  1.515235e+12    142.3725  ...         4.7   \n",
       "\n",
       "          Time3  Longitude3  Latitude3  Magnitude3         Time4  Longitude4  \\\n",
       "0  1.514890e+12    140.0338    35.5756         4.5  1.514897e+12    147.9473   \n",
       "1  1.514982e+12    140.3036    29.5489         4.6  1.514992e+12    140.3128   \n",
       "2  1.515047e+12    140.1703    35.5957         4.4  1.515068e+12    124.6215   \n",
       "3  1.515124e+12    140.5766    29.6055         4.6  1.515150e+12    141.3471   \n",
       "4  1.515246e+12    142.5355    40.7851         4.6  1.515317e+12    141.2623   \n",
       "\n",
       "   Latitude4  Magnitude4         Time5  \n",
       "0    44.0175         4.7  1.514921e+12  \n",
       "1    29.5928         4.3  1.515008e+12  \n",
       "2    45.4416         4.3  1.515072e+12  \n",
       "3    35.2909         4.3  1.515168e+12  \n",
       "4    36.3315         4.2  1.515369e+12  \n",
       "\n",
       "[5 rows x 21 columns]"
      ]
     },
     "execution_count": 5,
     "metadata": {},
     "output_type": "execute_result"
    }
   ],
   "source": [
    "df = pd.concat(dfs).reset_index(drop=True)\n",
    "df.dropna(inplace=True)\n",
    "df.head()"
   ]
  },
  {
   "cell_type": "markdown",
   "metadata": {},
   "source": [
    "We save the data in a folder for simplicity of use for the partipants."
   ]
  },
  {
   "cell_type": "code",
   "execution_count": 6,
   "metadata": {},
   "outputs": [],
   "source": [
    "df.to_csv(\"data/data_regression.csv\")"
   ]
  },
  {
   "cell_type": "markdown",
   "metadata": {},
   "source": [
    "# Part 1"
   ]
  },
  {
   "cell_type": "markdown",
   "metadata": {},
   "source": [
    "The provided dataset contains 1440 sequences of 5 consecutive seismic events. \n",
    "\n",
    "The dataset is comprised of 21 columns. For each of the 5 events considered in a single observation(/row), 4 pieces of information are provided:\n",
    "\n",
    "* `time0`: timestamp (in Unix time) of the first earthquake;\n",
    "* `Longitude0` and `Latitude0`: coordinates of the location of the epicenter of the first earthquake;\n",
    "* `Magnitude0`: magnitude (measure of intensity) of the first earthquake;\n",
    "* ...\n",
    "and so on analogously for the following columns.\n",
    "\n",
    "The last column, `time5`, contains the timestamp to be predicted in this supervised framework (test data).\n",
    "\n",
    "No added information is provided on the event to be predicted: knowing beforehand location and magnitude would defeat the goal of the magnitude, clearly unknown a priori, would surely help more accurate prediction (due to the self-exciting behaviour of earthquakes and their tendency to appear \"in clusters\") but would defeat the purpose of the challenge."
   ]
  },
  {
   "cell_type": "code",
   "execution_count": 7,
   "metadata": {},
   "outputs": [
    {
     "name": "stdout",
     "output_type": "stream",
     "text": [
      "Data shape : (1440, 21)\n"
     ]
    },
    {
     "data": {
      "text/html": [
       "<div>\n",
       "<style scoped>\n",
       "    .dataframe tbody tr th:only-of-type {\n",
       "        vertical-align: middle;\n",
       "    }\n",
       "\n",
       "    .dataframe tbody tr th {\n",
       "        vertical-align: top;\n",
       "    }\n",
       "\n",
       "    .dataframe thead th {\n",
       "        text-align: right;\n",
       "    }\n",
       "</style>\n",
       "<table border=\"1\" class=\"dataframe\">\n",
       "  <thead>\n",
       "    <tr style=\"text-align: right;\">\n",
       "      <th></th>\n",
       "      <th>Time0</th>\n",
       "      <th>Longitude0</th>\n",
       "      <th>Latitude0</th>\n",
       "      <th>Magnitude0</th>\n",
       "      <th>Time1</th>\n",
       "      <th>Longitude1</th>\n",
       "      <th>Latitude1</th>\n",
       "      <th>Magnitude1</th>\n",
       "      <th>Time2</th>\n",
       "      <th>Longitude2</th>\n",
       "      <th>...</th>\n",
       "      <th>Magnitude2</th>\n",
       "      <th>Time3</th>\n",
       "      <th>Longitude3</th>\n",
       "      <th>Latitude3</th>\n",
       "      <th>Magnitude3</th>\n",
       "      <th>Time4</th>\n",
       "      <th>Longitude4</th>\n",
       "      <th>Latitude4</th>\n",
       "      <th>Magnitude4</th>\n",
       "      <th>Time5</th>\n",
       "    </tr>\n",
       "  </thead>\n",
       "  <tbody>\n",
       "    <tr>\n",
       "      <th>0</th>\n",
       "      <td>1.514816e+12</td>\n",
       "      <td>141.8955</td>\n",
       "      <td>38.2761</td>\n",
       "      <td>4.3</td>\n",
       "      <td>1.514835e+12</td>\n",
       "      <td>121.2799</td>\n",
       "      <td>22.9136</td>\n",
       "      <td>4.2</td>\n",
       "      <td>1.514862e+12</td>\n",
       "      <td>142.9983</td>\n",
       "      <td>...</td>\n",
       "      <td>4.4</td>\n",
       "      <td>1.514890e+12</td>\n",
       "      <td>140.0338</td>\n",
       "      <td>35.5756</td>\n",
       "      <td>4.5</td>\n",
       "      <td>1.514897e+12</td>\n",
       "      <td>147.9473</td>\n",
       "      <td>44.0175</td>\n",
       "      <td>4.7</td>\n",
       "      <td>1.514921e+12</td>\n",
       "    </tr>\n",
       "    <tr>\n",
       "      <th>1</th>\n",
       "      <td>1.514928e+12</td>\n",
       "      <td>142.0927</td>\n",
       "      <td>37.3027</td>\n",
       "      <td>4.3</td>\n",
       "      <td>1.514935e+12</td>\n",
       "      <td>140.5556</td>\n",
       "      <td>29.5079</td>\n",
       "      <td>4.5</td>\n",
       "      <td>1.514982e+12</td>\n",
       "      <td>140.4409</td>\n",
       "      <td>...</td>\n",
       "      <td>4.7</td>\n",
       "      <td>1.514982e+12</td>\n",
       "      <td>140.3036</td>\n",
       "      <td>29.5489</td>\n",
       "      <td>4.6</td>\n",
       "      <td>1.514992e+12</td>\n",
       "      <td>140.3128</td>\n",
       "      <td>29.5928</td>\n",
       "      <td>4.3</td>\n",
       "      <td>1.515008e+12</td>\n",
       "    </tr>\n",
       "    <tr>\n",
       "      <th>2</th>\n",
       "      <td>1.515015e+12</td>\n",
       "      <td>140.5205</td>\n",
       "      <td>29.6374</td>\n",
       "      <td>5.5</td>\n",
       "      <td>1.515015e+12</td>\n",
       "      <td>140.5166</td>\n",
       "      <td>29.6113</td>\n",
       "      <td>5.1</td>\n",
       "      <td>1.515030e+12</td>\n",
       "      <td>143.0351</td>\n",
       "      <td>...</td>\n",
       "      <td>4.3</td>\n",
       "      <td>1.515047e+12</td>\n",
       "      <td>140.1703</td>\n",
       "      <td>35.5957</td>\n",
       "      <td>4.4</td>\n",
       "      <td>1.515068e+12</td>\n",
       "      <td>124.6215</td>\n",
       "      <td>45.4416</td>\n",
       "      <td>4.3</td>\n",
       "      <td>1.515072e+12</td>\n",
       "    </tr>\n",
       "    <tr>\n",
       "      <th>3</th>\n",
       "      <td>1.515076e+12</td>\n",
       "      <td>140.5203</td>\n",
       "      <td>29.5673</td>\n",
       "      <td>4.6</td>\n",
       "      <td>1.515076e+12</td>\n",
       "      <td>140.2602</td>\n",
       "      <td>29.6604</td>\n",
       "      <td>4.6</td>\n",
       "      <td>1.515118e+12</td>\n",
       "      <td>140.7786</td>\n",
       "      <td>...</td>\n",
       "      <td>4.4</td>\n",
       "      <td>1.515124e+12</td>\n",
       "      <td>140.5766</td>\n",
       "      <td>29.6055</td>\n",
       "      <td>4.6</td>\n",
       "      <td>1.515150e+12</td>\n",
       "      <td>141.3471</td>\n",
       "      <td>35.2909</td>\n",
       "      <td>4.3</td>\n",
       "      <td>1.515168e+12</td>\n",
       "    </tr>\n",
       "    <tr>\n",
       "      <th>4</th>\n",
       "      <td>1.515181e+12</td>\n",
       "      <td>139.2678</td>\n",
       "      <td>34.8460</td>\n",
       "      <td>4.5</td>\n",
       "      <td>1.515185e+12</td>\n",
       "      <td>139.2303</td>\n",
       "      <td>34.8211</td>\n",
       "      <td>4.7</td>\n",
       "      <td>1.515235e+12</td>\n",
       "      <td>142.3725</td>\n",
       "      <td>...</td>\n",
       "      <td>4.7</td>\n",
       "      <td>1.515246e+12</td>\n",
       "      <td>142.5355</td>\n",
       "      <td>40.7851</td>\n",
       "      <td>4.6</td>\n",
       "      <td>1.515317e+12</td>\n",
       "      <td>141.2623</td>\n",
       "      <td>36.3315</td>\n",
       "      <td>4.2</td>\n",
       "      <td>1.515369e+12</td>\n",
       "    </tr>\n",
       "  </tbody>\n",
       "</table>\n",
       "<p>5 rows × 21 columns</p>\n",
       "</div>"
      ],
      "text/plain": [
       "          Time0  Longitude0  Latitude0  Magnitude0         Time1  Longitude1  \\\n",
       "0  1.514816e+12    141.8955    38.2761         4.3  1.514835e+12    121.2799   \n",
       "1  1.514928e+12    142.0927    37.3027         4.3  1.514935e+12    140.5556   \n",
       "2  1.515015e+12    140.5205    29.6374         5.5  1.515015e+12    140.5166   \n",
       "3  1.515076e+12    140.5203    29.5673         4.6  1.515076e+12    140.2602   \n",
       "4  1.515181e+12    139.2678    34.8460         4.5  1.515185e+12    139.2303   \n",
       "\n",
       "   Latitude1  Magnitude1         Time2  Longitude2  ...  Magnitude2  \\\n",
       "0    22.9136         4.2  1.514862e+12    142.9983  ...         4.4   \n",
       "1    29.5079         4.5  1.514982e+12    140.4409  ...         4.7   \n",
       "2    29.6113         5.1  1.515030e+12    143.0351  ...         4.3   \n",
       "3    29.6604         4.6  1.515118e+12    140.7786  ...         4.4   \n",
       "4    34.8211         4.7  1.515235e+12    142.3725  ...         4.7   \n",
       "\n",
       "          Time3  Longitude3  Latitude3  Magnitude3         Time4  Longitude4  \\\n",
       "0  1.514890e+12    140.0338    35.5756         4.5  1.514897e+12    147.9473   \n",
       "1  1.514982e+12    140.3036    29.5489         4.6  1.514992e+12    140.3128   \n",
       "2  1.515047e+12    140.1703    35.5957         4.4  1.515068e+12    124.6215   \n",
       "3  1.515124e+12    140.5766    29.6055         4.6  1.515150e+12    141.3471   \n",
       "4  1.515246e+12    142.5355    40.7851         4.6  1.515317e+12    141.2623   \n",
       "\n",
       "   Latitude4  Magnitude4         Time5  \n",
       "0    44.0175         4.7  1.514921e+12  \n",
       "1    29.5928         4.3  1.515008e+12  \n",
       "2    45.4416         4.3  1.515072e+12  \n",
       "3    35.2909         4.3  1.515168e+12  \n",
       "4    36.3315         4.2  1.515369e+12  \n",
       "\n",
       "[5 rows x 21 columns]"
      ]
     },
     "execution_count": 7,
     "metadata": {},
     "output_type": "execute_result"
    }
   ],
   "source": [
    "data = pd.read_csv(\"data/data_regression.csv\", index_col=0)\n",
    "print(\"Data shape : {}\".format(data.shape))\n",
    "data.head()"
   ]
  },
  {
   "cell_type": "markdown",
   "metadata": {},
   "source": [
    "## Evaluation Metric\n",
    "In order to heavily penalize predictions that are far from the correct one, which make for a significantly less effective model in this use case, we resort to use the Mean Squared Error:\n",
    "$$\n",
    "MSE(y,\\hat{y}) = ||y-\\hat{y}||^2\n",
    "$$\n",
    "In this case, the target variable is onedimensional, so the expression simplifies to\n",
    "$$\n",
    "MSE(y,\\hat{y}) = (y-\\hat{y})^2\n",
    "$$"
   ]
  },
  {
   "cell_type": "markdown",
   "metadata": {},
   "source": [
    "## Baseline Model"
   ]
  },
  {
   "cell_type": "markdown",
   "metadata": {},
   "source": [
    "We provide a simple linear regressor for the problem."
   ]
  },
  {
   "cell_type": "code",
   "execution_count": 8,
   "metadata": {},
   "outputs": [
    {
     "name": "stdout",
     "output_type": "stream",
     "text": [
      "MSE (train) : 740926035450311.2\n",
      "MSE (test) : 529911052066380.75\n"
     ]
    }
   ],
   "source": [
    "from sklearn.linear_model import LinearRegression\n",
    "from sklearn.model_selection import train_test_split\n",
    "from sklearn.metrics import mean_squared_error\n",
    "\n",
    "X = data.iloc[:,:-1]\n",
    "y = data.iloc[:,-1]\n",
    "\n",
    "X_train, X_test, y_train, y_test = train_test_split(X, y, test_size=0.2, random_state=42)\n",
    "\n",
    "model = LinearRegression()\n",
    "model.fit(X_train, y_train)\n",
    "y_pred_train = model.predict(X_train)\n",
    "y_pred_test = model.predict(X_test)\n",
    "print(\"MSE (train) : {}\".format(mean_squared_error(y_train, y_pred_train)))\n",
    "print(\"MSE (test) : {}\".format(mean_squared_error(y_test, y_pred_test)))\n"
   ]
  },
  {
   "cell_type": "markdown",
   "metadata": {},
   "source": [
    "# Part 2"
   ]
  },
  {
   "cell_type": "markdown",
   "metadata": {},
   "source": [
    "In this part of the challenge we will make use of the dataset as originally provided by the source."
   ]
  },
  {
   "cell_type": "markdown",
   "metadata": {},
   "source": [
    "### Dataset :\n",
    "\n",
    "Each record includes the earthquake's occurrence time, magnitude, and additional features such as location coordinates or depth of the hypocenter (which is the underground point from which the earthquake is originated). A training dataset will be used to develop and train the models, while a separate test dataset will be used to evaluate the models' performance. The test dataset should not be used while building your model.\n",
    "\n",
    "**Note :** As mentioned previously, timestamps are given in Unix second."
   ]
  },
  {
   "cell_type": "code",
   "execution_count": 9,
   "metadata": {},
   "outputs": [
    {
     "name": "stdout",
     "output_type": "stream",
     "text": [
      "Data shape : (6942, 6)\n"
     ]
    },
    {
     "data": {
      "text/html": [
       "<div>\n",
       "<style scoped>\n",
       "    .dataframe tbody tr th:only-of-type {\n",
       "        vertical-align: middle;\n",
       "    }\n",
       "\n",
       "    .dataframe tbody tr th {\n",
       "        vertical-align: top;\n",
       "    }\n",
       "\n",
       "    .dataframe thead th {\n",
       "        text-align: right;\n",
       "    }\n",
       "</style>\n",
       "<table border=\"1\" class=\"dataframe\">\n",
       "  <thead>\n",
       "    <tr style=\"text-align: right;\">\n",
       "      <th></th>\n",
       "      <th>Magnitude</th>\n",
       "      <th>Place</th>\n",
       "      <th>Time</th>\n",
       "      <th>Longitude</th>\n",
       "      <th>Latitude</th>\n",
       "      <th>Depth</th>\n",
       "    </tr>\n",
       "  </thead>\n",
       "  <tbody>\n",
       "    <tr>\n",
       "      <th>8641</th>\n",
       "      <td>4.3</td>\n",
       "      <td>54 km ESE of Ishinomaki, Japan</td>\n",
       "      <td>1.000000e-15</td>\n",
       "      <td>141.8955</td>\n",
       "      <td>38.2761</td>\n",
       "      <td>51.04</td>\n",
       "    </tr>\n",
       "    <tr>\n",
       "      <th>8640</th>\n",
       "      <td>4.2</td>\n",
       "      <td>87 km ESE of Yujing, Taiwan</td>\n",
       "      <td>1.869741e+07</td>\n",
       "      <td>121.2799</td>\n",
       "      <td>22.9136</td>\n",
       "      <td>10.00</td>\n",
       "    </tr>\n",
       "    <tr>\n",
       "      <th>8639</th>\n",
       "      <td>4.4</td>\n",
       "      <td>Volcano Islands, Japan region</td>\n",
       "      <td>4.580055e+07</td>\n",
       "      <td>142.9983</td>\n",
       "      <td>23.1461</td>\n",
       "      <td>91.11</td>\n",
       "    </tr>\n",
       "    <tr>\n",
       "      <th>8638</th>\n",
       "      <td>4.5</td>\n",
       "      <td>7 km NW of Ichihara, Japan</td>\n",
       "      <td>7.429363e+07</td>\n",
       "      <td>140.0338</td>\n",
       "      <td>35.5756</td>\n",
       "      <td>42.22</td>\n",
       "    </tr>\n",
       "    <tr>\n",
       "      <th>8637</th>\n",
       "      <td>4.7</td>\n",
       "      <td>101 km ENE of Shikotan, Russia</td>\n",
       "      <td>8.156967e+07</td>\n",
       "      <td>147.9473</td>\n",
       "      <td>44.0175</td>\n",
       "      <td>69.86</td>\n",
       "    </tr>\n",
       "  </tbody>\n",
       "</table>\n",
       "</div>"
      ],
      "text/plain": [
       "      Magnitude                           Place          Time  Longitude  \\\n",
       "8641        4.3  54 km ESE of Ishinomaki, Japan  1.000000e-15   141.8955   \n",
       "8640        4.2     87 km ESE of Yujing, Taiwan  1.869741e+07   121.2799   \n",
       "8639        4.4   Volcano Islands, Japan region  4.580055e+07   142.9983   \n",
       "8638        4.5      7 km NW of Ichihara, Japan  7.429363e+07   140.0338   \n",
       "8637        4.7  101 km ENE of Shikotan, Russia  8.156967e+07   147.9473   \n",
       "\n",
       "      Latitude  Depth  \n",
       "8641   38.2761  51.04  \n",
       "8640   22.9136  10.00  \n",
       "8639   23.1461  91.11  \n",
       "8638   35.5756  42.22  \n",
       "8637   44.0175  69.86  "
      ]
     },
     "execution_count": 9,
     "metadata": {},
     "output_type": "execute_result"
    }
   ],
   "source": [
    "data = pd.read_csv(\"data/data_generative_train.csv\", index_col=0)\n",
    "data[\"Time\"] = data[\"Time\"]-data[\"Time\"].min() + 10e-16\n",
    "print(\"Data shape : {}\".format(data.shape))\n",
    "data.sort_values(by='Time', inplace=True)\n",
    "data.head()"
   ]
  },
  {
   "cell_type": "markdown",
   "metadata": {},
   "source": [
    "### Visualization : \n",
    "\n",
    "Data visualization plays a crucial role in understanding the underlying patterns and characteristics of earthquake occurrences, particularly in the context of developing generative models. Below is a plot of the histogram of inter-arrival times between consecutive earthquake events, we can gain insights into the temporal distribution of these natural phenomena. We notice that the histogram is shaped like an exponential distribution, which is a common behavior of Poisson Processes (this is one of the many reasons geologist historically use Poisson Processes to simulate for earthquakes)."
   ]
  },
  {
   "cell_type": "code",
   "execution_count": 10,
   "metadata": {},
   "outputs": [
    {
     "data": {
      "image/png": "[encoded data removed]",
      "text/plain": [
       "<Figure size 1080x360 with 1 Axes>"
      ]
     },
     "metadata": {
      "needs_background": "light"
     },
     "output_type": "display_data"
    }
   ],
   "source": [
    "times = data['Time'].values\n",
    "\n",
    "plt.figure(figsize=(15,5))\n",
    "delta_times = times[1:] - times[:-1]\n",
    "mean_delta = delta_times.mean()\n",
    "h = plt.hist(delta_times, bins=200, density=True)\n",
    "plt.title(\"Inter arrival time distribution\")\n",
    "plt.xlabel(\"Time\")\n",
    "plt.ylabel(\"Density\")\n",
    "plt.show()"
   ]
  },
  {
   "cell_type": "markdown",
   "metadata": {},
   "source": [
    "One could also be interested in the spacial distribution of earthquakes: non-surprinsingly most of the events lie on three different lines, they which to the intersections of the tectonic plates below Japan.\n",
    "\n",
    "**Note :** Spacial information was not used in the benchmark but carries valuable informations. We encourage the participants to find innovative ways to incorporate this information into their models."
   ]
  },
  {
   "cell_type": "code",
   "execution_count": 11,
   "metadata": {},
   "outputs": [
    {
     "name": "stderr",
     "output_type": "stream",
     "text": [
      "<ipython-input-11-74ebf30f5977>:6: FutureWarning: The geopandas.dataset module is deprecated and will be removed in GeoPandas 1.0. You can get the original 'naturalearth_lowres' data from https://www.naturalearthdata.com/downloads/110m-cultural-vectors/.\n",
      "  world = gpd.read_file(gpd.datasets.get_path('naturalearth_lowres'))\n"
     ]
    },
    {
     "data": {
      "text/plain": [
       "(19.5069, 50.3266)"
      ]
     },
     "execution_count": 11,
     "metadata": {},
     "output_type": "execute_result"
    },
    {
     "data": {
      "image/png": "[encoded data removed]",
      "text/plain": [
       "<Figure size 720x720 with 2 Axes>"
      ]
     },
     "metadata": {
      "needs_background": "light"
     },
     "output_type": "display_data"
    }
   ],
   "source": [
    "# Assuming 'data' is a DataFrame that includes 'Longitude' and 'Latitude' columns\n",
    "geometry = [Point(xy) for xy in zip(data['Longitude'], data['Latitude'])]\n",
    "gdf = GeoDataFrame(data, geometry=geometry)\n",
    "\n",
    "# Load a simple map that goes with geopandas\n",
    "world = gpd.read_file(gpd.datasets.get_path('naturalearth_lowres'))\n",
    "\n",
    "# Calculate bounds of the GeoDataFrame\n",
    "minx, miny, maxx, maxy = gdf.total_bounds\n",
    "\n",
    "# Plotting\n",
    "ax = world.plot(figsize=(10, 10))\n",
    "gdf.plot(ax=ax, marker='o', column='Magnitude', markersize=15, cmap='YlOrRd', legend=True)\n",
    "\n",
    "# Adjust the plotting range to center on the scatter\n",
    "# You might want to add a small margin around the edges for better visualization\n",
    "margin = 0.5  # Adjust this value based on your preference\n",
    "ax.set_xlim(minx - margin, maxx + margin)\n",
    "ax.set_ylim(miny - margin, maxy + margin)"
   ]
  },
  {
   "cell_type": "markdown",
   "metadata": {},
   "source": [
    "This challenge primarily focuses on the self-exciting property of earthquake events. Although participants do not need an in-depth understanding of this concept, we include the following plot to demonstrate that this behavior indeed appears in the data. Intuitively, a process is self-exciting if the occurrence of past points increases the probability of future points occurring. Mathematically, a point process $N$ is called self-exciting if:\n",
    "    $$cov(N(s,t),N(t,u))>0$$\n",
    "for $s<t<u$ where here, $cov$ denotes the covariance of the two quantities. \n",
    "\n",
    "Below is the plot of the autocorelation of the Japanese earthquakes point process. The blue region represents the $95\\%$ confidence interval around $0$. One can see that all fisrt $40$ autocorelations factors are statistically significant, which means that the data indeed exhibit a self-exciting behavior.\n",
    "\n",
    "For more information about self-exciting point processes (and potential ideas to kickstart the challenge), we refer to [this quite extensive review](https://arxiv.org/pdf/1708.02647.pdf) . "
   ]
  },
  {
   "cell_type": "code",
   "execution_count": 12,
   "metadata": {},
   "outputs": [
    {
     "data": {
      "image/png": "[encoded data removed]",
      "text/plain": [
       "<Figure size 432x288 with 1 Axes>"
      ]
     },
     "metadata": {
      "needs_background": "light"
     },
     "output_type": "display_data"
    }
   ],
   "source": [
    "events_times = np.sort(data[\"Time\"])\n",
    "\n",
    "# Assuming `event_times` is a sorted NumPy array of event times\n",
    "# Convert event times to counts per time bin for ACF analysis\n",
    "time_bins = np.arange(events_times.min(), events_times.max(), 5000000)\n",
    "event_counts = np.histogram(events_times, bins=time_bins)[0]\n",
    "\n",
    "# Plot the ACF of event counts\n",
    "plot_acf(event_counts, lags=50, alpha=0.05, zero=False) \n",
    "plt.ylim(0, 0.2)\n",
    "plt.show()"
   ]
  },
  {
   "cell_type": "markdown",
   "metadata": {},
   "source": [
    "Finally, it's worth noting that earthquakes can be classified in many different ways. One possible approach is to classify them by their level of danger. Below, we visualize the arrival times for each class of earthquakes and observe that small earthquakes occur much more frequently than strong ones."
   ]
  },
  {
   "cell_type": "code",
   "execution_count": 13,
   "metadata": {},
   "outputs": [],
   "source": [
    "def classify_magnitude(magnitude):\n",
    "    if magnitude < 2:\n",
    "        return 'tiny'\n",
    "    elif 2 <= magnitude < 3:\n",
    "        return 'very small'\n",
    "    elif 3 <= magnitude < 4:\n",
    "        return 'small'\n",
    "    elif 4 <= magnitude < 5:\n",
    "        return 'moderate'\n",
    "    elif 5 <= magnitude < 6:\n",
    "        return 'strong'\n",
    "    else:\n",
    "        return 'very strong'\n",
    "    \n",
    "data['Classification'] = data['Magnitude'].apply(classify_magnitude)"
   ]
  },
  {
   "cell_type": "code",
   "execution_count": 14,
   "metadata": {},
   "outputs": [
    {
     "data": {
      "text/plain": [
       "<AxesSubplot: >"
      ]
     },
     "execution_count": 14,
     "metadata": {},
     "output_type": "execute_result"
    },
    {
     "data": {
      "image/png": "[encoded data removed]",
      "text/plain": [
       "<Figure size 432x288 with 1 Axes>"
      ]
     },
     "metadata": {
      "needs_background": "light"
     },
     "output_type": "display_data"
    }
   ],
   "source": [
    "data[\"Magnitude\"].hist(bins=40)"
   ]
  },
  {
   "cell_type": "code",
   "execution_count": 15,
   "metadata": {},
   "outputs": [
    {
     "data": {
      "image/png": "[encoded data removed]",
      "text/plain": [
       "<Figure size 1800x288 with 1 Axes>"
      ]
     },
     "metadata": {
      "needs_background": "light"
     },
     "output_type": "display_data"
    }
   ],
   "source": [
    "data = data.sort_values([\"Magnitude\"])\n",
    "data[\"Time\"] = data[\"Time\"]/mean_delta\n",
    "list_times = [data[data['Classification']==c]['Time'].values.astype(np.float64) for c in data['Classification'].unique()]\n",
    "\n",
    "time_bins = np.arange(events_times.min(), events_times.max(), 5000000)\n",
    "event_counts = [np.histogram(list_times[c], bins=time_bins)[0] for c in range(data['Classification'].nunique())]\n",
    "\n",
    "label_encoder = LabelEncoder()\n",
    "data['Classification_index'] = label_encoder.fit_transform(data['Classification']).astype(int)\n",
    "\n",
    "plt.figure(figsize=(25,4))\n",
    "colors = ['yellow', 'orange', 'red', 'grey', 'black']\n",
    "for k in range(len(list_times)):\n",
    "    plt.scatter(list_times[k], [k]*len(list_times[k]), color=colors[k])\n",
    "\n",
    "# Set y-axis labels\n",
    "classification_labels = ['very small', 'small', 'moderate', 'strong', 'very strong']\n",
    "plt.yticks(range(len(classification_labels)), classification_labels)\n",
    "\n",
    "plt.show()"
   ]
  },
  {
   "cell_type": "markdown",
   "metadata": {},
   "source": [
    "As a benchmark, we provide a very basic Epidemic Type Aftershock Sequence (ETAS) model. This model, while fundamental, exhibits limited performance, presenting numerous opportunities for enhancement. Building upon this foundational model poses the challenge we leave to the participants! For more information about ETAS model, refer to [Yosihiko Ogata & al.](https://link.springer.com/article/10.1023/A:1003403601725)."
   ]
  },
  {
   "cell_type": "code",
   "execution_count": 16,
   "metadata": {},
   "outputs": [
    {
     "name": "stdout",
     "output_type": "stream",
     "text": [
      "Estimated Hawkes parameters : mu = 0.45885612814267646, eta = 0.5428131725732172, theta = [ 0.08705791  1.24853762  2.77977892 15.23473874 18.47615574]\n"
     ]
    },
    {
     "name": "stderr",
     "output_type": "stream",
     "text": [
      "/home/lucas/.local/lib/python3.8/site-packages/sklearn/mixture/_base.py:131: ConvergenceWarning: Number of distinct clusters (44) found smaller than n_clusters (50). Possibly due to duplicate points in X.\n",
      "  cluster.KMeans(\n"
     ]
    },
    {
     "data": {
      "text/html": [
       "<style>#sk-container-id-1 {color: black;background-color: white;}#sk-container-id-1 pre{padding: 0;}#sk-container-id-1 div.sk-toggleable {background-color: white;}#sk-container-id-1 label.sk-toggleable__label {cursor: pointer;display: block;width: 100%;margin-bottom: 0;padding: 0.3em;box-sizing: border-box;text-align: center;}#sk-container-id-1 label.sk-toggleable__label-arrow:before {content: \"▸\";float: left;margin-right: 0.25em;color: #696969;}#sk-container-id-1 label.sk-toggleable__label-arrow:hover:before {color: black;}#sk-container-id-1 div.sk-estimator:hover label.sk-toggleable__label-arrow:before {color: black;}#sk-container-id-1 div.sk-toggleable__content {max-height: 0;max-width: 0;overflow: hidden;text-align: left;background-color: #f0f8ff;}#sk-container-id-1 div.sk-toggleable__content pre {margin: 0.2em;color: black;border-radius: 0.25em;background-color: #f0f8ff;}#sk-container-id-1 input.sk-toggleable__control:checked~div.sk-toggleable__content {max-height: 200px;max-width: 100%;overflow: auto;}#sk-container-id-1 input.sk-toggleable__control:checked~label.sk-toggleable__label-arrow:before {content: \"▾\";}#sk-container-id-1 div.sk-estimator input.sk-toggleable__control:checked~label.sk-toggleable__label {background-color: #d4ebff;}#sk-container-id-1 div.sk-label input.sk-toggleable__control:checked~label.sk-toggleable__label {background-color: #d4ebff;}#sk-container-id-1 input.sk-hidden--visually {border: 0;clip: rect(1px 1px 1px 1px);clip: rect(1px, 1px, 1px, 1px);height: 1px;margin: -1px;overflow: hidden;padding: 0;position: absolute;width: 1px;}#sk-container-id-1 div.sk-estimator {font-family: monospace;background-color: #f0f8ff;border: 1px dotted black;border-radius: 0.25em;box-sizing: border-box;margin-bottom: 0.5em;}#sk-container-id-1 div.sk-estimator:hover {background-color: #d4ebff;}#sk-container-id-1 div.sk-parallel-item::after {content: \"\";width: 100%;border-bottom: 1px solid gray;flex-grow: 1;}#sk-container-id-1 div.sk-label:hover label.sk-toggleable__label {background-color: #d4ebff;}#sk-container-id-1 div.sk-serial::before {content: \"\";position: absolute;border-left: 1px solid gray;box-sizing: border-box;top: 0;bottom: 0;left: 50%;z-index: 0;}#sk-container-id-1 div.sk-serial {display: flex;flex-direction: column;align-items: center;background-color: white;padding-right: 0.2em;padding-left: 0.2em;position: relative;}#sk-container-id-1 div.sk-item {position: relative;z-index: 1;}#sk-container-id-1 div.sk-parallel {display: flex;align-items: stretch;justify-content: center;background-color: white;position: relative;}#sk-container-id-1 div.sk-item::before, #sk-container-id-1 div.sk-parallel-item::before {content: \"\";position: absolute;border-left: 1px solid gray;box-sizing: border-box;top: 0;bottom: 0;left: 50%;z-index: -1;}#sk-container-id-1 div.sk-parallel-item {display: flex;flex-direction: column;z-index: 1;position: relative;background-color: white;}#sk-container-id-1 div.sk-parallel-item:first-child::after {align-self: flex-end;width: 50%;}#sk-container-id-1 div.sk-parallel-item:last-child::after {align-self: flex-start;width: 50%;}#sk-container-id-1 div.sk-parallel-item:only-child::after {width: 0;}#sk-container-id-1 div.sk-dashed-wrapped {border: 1px dashed gray;margin: 0 0.4em 0.5em 0.4em;box-sizing: border-box;padding-bottom: 0.4em;background-color: white;}#sk-container-id-1 div.sk-label label {font-family: monospace;font-weight: bold;display: inline-block;line-height: 1.2em;}#sk-container-id-1 div.sk-label-container {text-align: center;}#sk-container-id-1 div.sk-container {/* jupyter's `normalize.less` sets `[hidden] { display: none; }` but bootstrap.min.css set `[hidden] { display: none !important; }` so we also need the `!important` here to be able to override the default hidden behavior on the sphinx rendered scikit-learn.org. See: https://github.com/scikit-learn/scikit-learn/issues/21755 */display: inline-block !important;position: relative;}#sk-container-id-1 div.sk-text-repr-fallback {display: none;}</style><div id=\"sk-container-id-1\" class=\"sk-top-container\"><div class=\"sk-text-repr-fallback\"><pre>GaussianMixture(n_components=50)</pre><b>In a Jupyter environment, please rerun this cell to show the HTML representation or trust the notebook. <br />On GitHub, the HTML representation is unable to render, please try loading this page with nbviewer.org.</b></div><div class=\"sk-container\" hidden><div class=\"sk-item\"><div class=\"sk-estimator sk-toggleable\"><input class=\"sk-toggleable__control sk-hidden--visually\" id=\"sk-estimator-id-1\" type=\"checkbox\" checked><label for=\"sk-estimator-id-1\" class=\"sk-toggleable__label sk-toggleable__label-arrow\">GaussianMixture</label><div class=\"sk-toggleable__content\"><pre>GaussianMixture(n_components=50)</pre></div></div></div></div></div>"
      ],
      "text/plain": [
       "GaussianMixture(n_components=50)"
      ]
     },
     "execution_count": 16,
     "metadata": {},
     "output_type": "execute_result"
    }
   ],
   "source": [
    "#Fit the model to our data :\n",
    "\n",
    "#Hawkes process for the earthquakes times\n",
    "data = data.sort_values('Time')\n",
    "timestamps = data['Time'].values\n",
    "\n",
    "ExpoEstimator = SumExpHawkesProcessInference(P=5)\n",
    "\n",
    "# Estimate paramters\n",
    "mu_hat, eta_hat, theta_hat = ExpoEstimator.estimate_grid(timestamps, T=timestamps[-1], return_params=True)\n",
    "\n",
    "print(\"Estimated Hawkes parameters : mu = {0}, eta = {1}, theta = {2}\".format(mu_hat, eta_hat, theta_hat))\n",
    "\n",
    "#Gaussian mixture model earthquakes magnitudes\n",
    "magnitudes = data['Magnitude'].values.reshape(-1,1)\n",
    "\n",
    "gmm = GaussianMixture(50)\n",
    "\n",
    "#Estimate parameters \n",
    "gmm.fit(magnitudes)"
   ]
  },
  {
   "cell_type": "markdown",
   "metadata": {},
   "source": [
    "### Submission Guidelines\n",
    "\n",
    "Participants are required to submit a numpy array of shape (1700, 2) containing 1700 samples from their model. Each sample should consist of an arrival time and of a magnitude, thus should the array should be of the form `[[t1, m1], ..., [tn, mn]]`.\n",
    "\n",
    "We provide the evaluation metric in the metrics.py file, as displayed below."
   ]
  },
  {
   "cell_type": "code",
   "execution_count": 17,
   "metadata": {},
   "outputs": [
    {
     "name": "stdout",
     "output_type": "stream",
     "text": [
      "Succesfully generated 1700 samples.\n"
     ]
    }
   ],
   "source": [
    "while True:\n",
    "    #Simulation of the Hawkes process\n",
    "    ExpoSimulator = SumExpHawkesProcessSimulation(mu=mu_hat, eta=eta_hat, theta_vec=theta_hat)\n",
    "\n",
    "    T_samples = ExpoSimulator.simulate(3000, seed=42)*mean_delta #2000 units of time ensure that we generate enough points\n",
    "\n",
    "    #Simulation of the Gaussian mixture\n",
    "\n",
    "    M_samples = gmm.sample(len(T_samples))[0].reshape(1,-1)[0]\n",
    "    #Generate submission\n",
    "    samples = [[T_samples[k], M_samples[k]] for k in range(len(T_samples))]\n",
    "    if len(samples) >= 1700:\n",
    "        samples = samples[:1700]\n",
    "        break\n",
    "samples = np.array([np.array(s) for s in samples])\n",
    "print(\"Succesfully generated {} samples.\".format(len(samples)))"
   ]
  },
  {
   "cell_type": "code",
   "execution_count": 18,
   "metadata": {},
   "outputs": [
    {
     "name": "stderr",
     "output_type": "stream",
     "text": [
      "/usr/lib/python3/dist-packages/requests/__init__.py:89: RequestsDependencyWarning: urllib3 (1.26.18) or chardet (5.1.0) doesn't match a supported version!\n",
      "  warnings.warn(\"urllib3 ({}) or chardet ({}) doesn't match a supported \"\n"
     ]
    },
    {
     "name": "stdout",
     "output_type": "stream",
     "text": [
      "[KeOps] Warning : Cuda libraries were not detected on the system or could not be loaded ; using cpu only mode\n"
     ]
    },
    {
     "name": "stderr",
     "output_type": "stream",
     "text": [
      "/home/lucas/Documents/Etudes/Télécom/M2/Datacamp/group_project/earthquake_forecast/metrics.py:45: SettingWithCopyWarning: \n",
      "A value is trying to be set on a copy of a slice from a DataFrame.\n",
      "Try using .loc[row_indexer,col_indexer] = value instead\n",
      "\n",
      "See the caveats in the documentation: https://pandas.pydata.org/pandas-docs/stable/user_guide/indexing.html#returning-a-view-versus-a-copy\n",
      "  test_samples[\"Time\"] = test_samples[\"Time\"] - test_samples[\"Time\"].min()\n"
     ]
    },
    {
     "name": "stdout",
     "output_type": "stream",
     "text": [
      "Anderson Darling on the magnitudes : 71.79106158153104 \n",
      "W2 on the inter-arrivals and magnitudes : 22410749.34877173\n",
      "Total loss : 22410821.13983331\n"
     ]
    }
   ],
   "source": [
    "from metrics import earthquake_simulation_metric\n",
    "\n",
    "first_metric, second_metric, total_loss = earthquake_simulation_metric(samples)\n",
    "print(\"Anderson Darling on the magnitudes : {0} \\nW2 on the inter-arrivals and magnitudes : {1}\".format(first_metric, second_metric))\n",
    "print(\"Total loss : {}\".format(total_loss))"
   ]
  },
  {
   "cell_type": "markdown",
   "metadata": {},
   "source": [
    "## Evaluation Metrics\n",
    "\n",
    "Evaluation of models will be based on two key metrics:\n",
    "- The **Anderson-Darling** metric between the generated magnitudes and the empirical magnitudes in the training dataset. This metric emphasizes differences in the distributions' extremes, placing greater emphasis on the tails that represent higher magnitudes and more destructive earthquakes. Given a sample of magnitudes $M_1, ..., M_n$, let us denote its empirical cumulative distribution function ( or c.d.f.) as\n",
    "$$\n",
    "\\widehat{F}_n(x) = \\frac{1}{n}\\sum_{i=1}^{n} \\mathbb{I}\\left\\{ M_i \\le x \\right\\}\n",
    "$$\n",
    "The Anderson-Darling distance (A.D. distance) has the following expression:\n",
    "$$\n",
    "W_n=n \\int_{-\\infty}^{\\infty} \\frac{\\left(\\widehat{F}_n(x)-F(x)\\right)^2}{F(x)(1-F(x))} d F(x)\n",
    "$$\n",
    "which consists essentially in a weighted square difference between the theoretical cumulative distribution function of the considered distribution and the empirical c.d.f. of an i.i.d. sample with that same distribution. To evaluate the performance of submission we propose an empirical version of the Anderson-Darling distance. We refer to $M_{1, n} \\leq \\cdots \\leq X_{n, n}$ as the order statistics. For a generated sample $\\tilde{M}_i$ we define the following\n",
    "$$\n",
    "\\tilde{u}_{i, n}=\\frac{1}{n+2}\\left(\\sum_{j=1}^n \\mathbb{I}\\left\\{M_j\\leq \\tilde{M}_{i, n}\\right\\}+1\\right) \\approx \\widehat{F}_n^M(\\tilde{M}_{i, n}) \\approx \\mathbb{P}_{M\\sim\\mu}\\left( M \\le \\tilde{M}_{i, n} \\right)\n",
    "$$\n",
    "which represents the model probability of a generated variable (with small corrections to avoid having $\\tilde{u}_{i, n}=0,1$).\n",
    "The way we compute the Anderson-Darling distance is then\n",
    "$$\n",
    "AD((M_1,\\ldots M_n),(\\tilde{M}_1,\\ldots \\tilde{M}_n))=-n-\\frac{1}{n} \\sum_{i=1}^n(2 i-1)\\left(\\log \\left(\\widetilde{u}_{i, n}^\\tau\\right)+\\log \\left(1-\\widetilde{u}_{n-i+1, n}^\\tau\\right)\\right).\n",
    "$$\n",
    "\n",
    "- The **Wassertein distance** of the generated inter-arrival times and magnitudes vector $(v_i)_i = ((T_{i}-T_{i-1},M_i,\\cdots,T_{i+k-1}-T_{i+k-2},M_{i+k-1}))_i$, in $\\mathbb{R}^{2k}$ and its empirical counterpart. This measurement ensures the model captures both the self-exciting properties of earthquake occurrences and the correlations between earthquake magnitudes and frequencies.\n",
    "\n",
    "\n",
    "Denote $\\mu_{M}$ the marginal distribution of the generated magnitudes, $\\mu_{IA}$ the marginal distribution of the generated inter_arrival and magnitude vectors $(v_i)_i$, as well as $\\hat{\\mu}_{M}$ and $\\hat{\\mu}_{IA}$ their empirical couterparts in the test dataset. Then the final metric used to rank the participants is :\n",
    "$$ \\mathcal{L}(G) = AD(\\mu_{M}, \\hat{\\mu_{M}}) + W_2(\\mu_{IA}, \\hat{\\mu_{IA}})$$\n",
    "\n",
    "The participants' goal should be to minimize $\\mathcal{L}$.\n",
    "\n",
    "For more details on any of these two metrics we refer to [Wikipedia:Anderson-Darling](https://en.wikipedia.org/wiki/Anderson%E2%80%93Darling_test) and [Wikipedia:W2](https://en.wikipedia.org/wiki/Wasserstein_metric). For for further details on the formulation of the Andesron-Darling distance in particular, we refer to [Asymptotic Theory of Certain \"Goodness of Fit\" Criteria Based on Stochastic Processes](https://projecteuclid.org/journals/annals-of-mathematical-statistics/volume-23/issue-2/Asymptotic-Theory-of-Certain-Goodness-of-Fit-Criteria-Based-on/10.1214/aoms/1177729437.full) and [Tests of Goodness-of-Fit](https://link.springer.com/referenceworkentry/10.1007/978-3-642-04898-2_118)."
   ]
  }
 ],
 "metadata": {
  "kernelspec": {
   "display_name": "Python 3",
   "language": "python",
   "name": "python3"
  },
  "language_info": {
   "codemirror_mode": {
    "name": "ipython",
    "version": 3
   },
   "file_extension": ".py",
   "mimetype": "text/x-python",
   "name": "python",
   "nbconvert_exporter": "python",
   "pygments_lexer": "ipython3",
   "version": "3.8.10"
  }
 },
 "nbformat": 4,
 "nbformat_minor": 2
}
